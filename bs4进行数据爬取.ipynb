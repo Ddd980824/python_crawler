{
 "cells": [
  {
   "cell_type": "markdown",
   "metadata": {},
   "source": [
    "## 使用bs4库提取信息"
   ]
  },
  {
   "cell_type": "code",
   "execution_count": 77,
   "metadata": {},
   "outputs": [],
   "source": [
    "#基础信息设置\n",
    "import requests\n",
    "from bs4 import BeautifulSoup\n",
    "import lxml\n",
    "url =\"https://sz.58.com/shangpu/50936130109849x.shtml?prd=UONd5D0fjU8go4jtECM5xg%3D%3D&houseId=2597782970064908&gpos=1&legourl=%2F%2Flegoclick.58.com%2Fjump%3Ftarget%3Dszq1XB3draOWUvYf0v66UhIkIitdnjb1PWD1njDkrH9Yrg980v6YUykKuaY1PH6bnAE3nzdBnW0YsHE1PH0VmH-Wmid6uH9QP1u-PWIhnHTKPW0vPH0zPW0Ln1ndnWmKTHcdrH0LrjcOP1TkPWEOnj9KnHN3njTKnHN3njTKnikQPEDYsjD3nHcKnHmvnjDznHbzPW0vnTDQTNujgdKjgSyR68i3h8y0_rilGSyR68hH8MP-mgFWp7q2yTDQTHDKTiYQTEDQPHEOn1EdnHbOnH9Lnj91nWmYTHmK0A7zmyd1nWT1rW7tnkDQTHT3Pjm1PyP-sHF6mH0VPjnQraY3nvPWsHwbmW0Lrju6m1b1uEDQPHEOn1EdnHbOnWmzPHb1njcYTHDdPjb1PjNQrHbzrHDOn1mLPW9KTEDKTEZbfu5C9osGGCmKTEDKEvqWHAbzHZGWIAboXgCYUDPLNyPKu1YqTHnOsWDvra33na3YPEDVnEDkTEDQsjDdTgVqTHDknjnYTHDknjnYnWcKmvcLuHTLnHbVnWRbnzYYn17WsH-WnWmVnjb3rHnOnWDQuHKWTEDkTEDKnTDYsjD3nHc_PWDdnTDQTyOdUAkKrymOmHu6njTQuyE1Pv7hPE&referinfo=false&utm_source=&spm=&product=jingxuan&lgtid_shangyetie=cb7e0719-25d3-431c-9c26-098939211e0c&key=%E4%BD%93%E8%82%B2%E9%A6%86&list_type=main&PGTID=0d30000d-0000-0d76-25f2-080366e24556&ClickID=5\"\n",
    "headers = {\"User-Agent\": \"Mozilla/5.0 (Windows NT 10.0; Win64; x64) AppleWebKit/537.36 (KHTML, like Gecko) Chrome/103.0.0.0 Safari/537.36\"}"
   ]
  },
  {
   "cell_type": "code",
   "execution_count": 78,
   "metadata": {},
   "outputs": [],
   "source": [
    "#请求网页数据\n",
    "resource = requests.get(url,headers=headers)\n",
    "html = resource.text"
   ]
  },
  {
   "cell_type": "code",
   "execution_count": 79,
   "metadata": {},
   "outputs": [
    {
     "data": {
      "text/plain": [
       "['113.884939', '22.56616']"
      ]
     },
     "execution_count": 79,
     "metadata": {},
     "output_type": "execute_result"
    }
   ],
   "source": [
    "#使用beautifulsoup提取数据\n",
    "soup= BeautifulSoup(html,\"lxml\")\n",
    "data = soup.find_all(name=\"meta\",attrs={\"name\":\"location\"})[0][\"content\"]\n",
    "data =data.split(\"coord=\") [1].split(\",\")\n",
    "data"
   ]
  },
  {
   "cell_type": "code",
   "execution_count": 80,
   "metadata": {},
   "outputs": [
    {
     "data": {
      "text/plain": [
       "113.884939"
      ]
     },
     "execution_count": 80,
     "metadata": {},
     "output_type": "execute_result"
    }
   ],
   "source": [
    "#经度\n",
    "lng= float(data[0])\n",
    "lng"
   ]
  },
  {
   "cell_type": "code",
   "execution_count": 81,
   "metadata": {},
   "outputs": [
    {
     "data": {
      "text/plain": [
       "22.56616"
      ]
     },
     "execution_count": 81,
     "metadata": {},
     "output_type": "execute_result"
    }
   ],
   "source": [
    "#纬度\n",
    "lat = float(data[1])\n",
    "lat"
   ]
  }
 ],
 "metadata": {
  "kernelspec": {
   "display_name": "Python 3.8.3 ('base')",
   "language": "python",
   "name": "python3"
  },
  "language_info": {
   "codemirror_mode": {
    "name": "ipython",
    "version": 3
   },
   "file_extension": ".py",
   "mimetype": "text/x-python",
   "name": "python",
   "nbconvert_exporter": "python",
   "pygments_lexer": "ipython3",
   "version": "3.8.3"
  },
  "orig_nbformat": 4,
  "vscode": {
   "interpreter": {
    "hash": "0690d0a31c43d6782c83d318ff85a3bdbe98820c0a9a1d52db642e5828ab819c"
   }
  }
 },
 "nbformat": 4,
 "nbformat_minor": 2
}
