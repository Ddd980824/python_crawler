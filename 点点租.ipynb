{
 "cells": [
  {
   "cell_type": "code",
   "execution_count": 69,
   "metadata": {},
   "outputs": [],
   "source": [
    "import pandas as pd\n",
    "import geopandas as gpd\n",
    "import requests\n",
    "from bs4 import BeautifulSoup\n",
    "import transCoordinateSystem as tr\n",
    "from tqdm import tqdm #显示处理进度"
   ]
  },
  {
   "cell_type": "code",
   "execution_count": 70,
   "metadata": {},
   "outputs": [],
   "source": [
    "def page_analyse(url):\n",
    "    headers = {\"User-Agent\": \"Mozilla/5.0 (Windows NT 10.0; Win64; x64) AppleWebKit/537.36 (KHTML, like Gecko) Chrome/103.0.0.0 Safari/537.36\"}\n",
    "    building = requests.get(url,headers=headers)\n",
    "    html1 = building.text\n",
    "    soup1= BeautifulSoup(html1,\"lxml\")\n",
    "    #获取写字楼的名称\n",
    "    building_name = soup1.find_all(name=\"h1\",attrs = {\"class\":\"fl\"})[0].text\n",
    "    #获取租金\n",
    "    building_price = soup1.find_all(name = \"span\",attrs = {\"class\":\"price-num\"})[0].text\n",
    "    #获取物业费\n",
    "    for i in soup1.find_all(name =\"span\",attrs={\"class\":\"f-con\"}):\n",
    "        if \"平\" in i.text:\n",
    "            property_fee = i.text\n",
    "    try:\n",
    "        a = property_fee\n",
    "    except:\n",
    "        property_fee = \"\"\n",
    "    #获取经纬度并纠偏（转为wgs1984）\n",
    "    longitude = float(soup1.find_all(name=\"span\",attrs={\"id\":\"longitude\"})[0].text)\n",
    "    latitude =float(soup1.find_all(name=\"span\",attrs={\"id\":\"latitude\"})[0].text)\n",
    "    location = tr.bd09_to_wgs84(latitude,longitude)\n",
    "    lon_wgs1984 = round(location[1],6)\n",
    "    lat_wgs1984 = round(location[0],6)\n",
    "\n",
    "    return {\"写字楼名称\":building_name,\n",
    "            \"租金\":building_price,\n",
    "            \"物业费\":property_fee,\n",
    "            \"纬度\":lat_wgs1984,\n",
    "            \"经度\":lon_wgs1984}\n",
    "       "
   ]
  },
  {
   "cell_type": "code",
   "execution_count": 71,
   "metadata": {},
   "outputs": [
    {
     "name": "stderr",
     "output_type": "stream",
     "text": [
      "100%|██████████| 3/3 [00:11<00:00,  3.89s/it]\n"
     ]
    }
   ],
   "source": [
    "data=[]\n",
    "for i in tqdm(range(1,4)):\n",
    "    headers = {\"User-Agent\": \"Mozilla/5.0 (Windows NT 10.0; Win64; x64) AppleWebKit/537.36 (KHTML, like Gecko) Chrome/103.0.0.0 Safari/537.36\"}\n",
    "    url =\"https://sz.diandianzu.com/listing/r18p\"+str(i)+\"/\"\n",
    "    a = requests.get(url,headers=headers)\n",
    "    html = a.text\n",
    "    soup = BeautifulSoup(html,\"lxml\")\n",
    "    for page in soup.find_all(name =\"div\",attrs={\"class\":\"list-item-link\"}):\n",
    "        building_url = \"https://sz.diandianzu.com\" + page.find_all(name=\"a\",attrs={\"target\":\"_blank\"})[0][\"href\"]\n",
    "        data.append(page_analyse(building_url))\n",
    "   \n"
   ]
  },
  {
   "cell_type": "markdown",
   "metadata": {},
   "source": [
    "## 空间数据处理与存储"
   ]
  },
  {
   "cell_type": "code",
   "execution_count": 81,
   "metadata": {},
   "outputs": [
    {
     "data": {
      "image/png": "[encoded data removed]",
      "text/plain": [
       "<Figure size 432x288 with 1 Axes>"
      ]
     },
     "metadata": {
      "needs_background": "light"
     },
     "output_type": "display_data"
    }
   ],
   "source": [
    "df = pd.DataFrame()\n",
    "df=df.append(data,ignore_index=True)\n",
    "gdf = gpd.GeoDataFrame(df,geometry = gpd.points_from_xy(df.经度,df.纬度))\n",
    "gdf.crs = \"EPSG:4326\"\n",
    "gdf.plot()\n",
    "gdf.to_file(r\"D:\\科研数据处理\\立方数据学社\\python城市数据爬取\\python城市数据爬取练习\\空间数据爬取\\写字楼.shp\",encoding =\"gb18030\")\n",
    "gdf.to_csv(r\"D:\\科研数据处理\\立方数据学社\\python城市数据爬取\\python城市数据爬取练习\\空间数据爬取\\写字楼.csv\",encoding='utf-8')"
   ]
  }
 ],
 "metadata": {
  "kernelspec": {
   "display_name": "Python 3.8.3 ('base')",
   "language": "python",
   "name": "python3"
  },
  "language_info": {
   "codemirror_mode": {
    "name": "ipython",
    "version": 3
   },
   "file_extension": ".py",
   "mimetype": "text/x-python",
   "name": "python",
   "nbconvert_exporter": "python",
   "pygments_lexer": "ipython3",
   "version": "3.8.3"
  },
  "orig_nbformat": 4,
  "vscode": {
   "interpreter": {
    "hash": "0690d0a31c43d6782c83d318ff85a3bdbe98820c0a9a1d52db642e5828ab819c"
   }
  }
 },
 "nbformat": 4,
 "nbformat_minor": 2
}
