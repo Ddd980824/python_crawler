{
 "cells": [
  {
   "cell_type": "markdown",
   "metadata": {},
   "source": [
    "## 使用re库提取信息"
   ]
  },
  {
   "cell_type": "code",
   "execution_count": 3,
   "metadata": {},
   "outputs": [],
   "source": [
    "#基础信息设置\n",
    "import requests\n",
    "import re\n",
    "url = \"http://zf.szhome.com/sell/560536.html\"\n",
    "headers = { \"Accept\": \"text/html,application/xhtml+xml,application/xml;q=0.9,image/avif,image/webp,image/apng,*/*;q=0.8,application/signed-exchange;v=b3;q=0.9\"}"
   ]
  },
  {
   "cell_type": "code",
   "execution_count": 4,
   "metadata": {},
   "outputs": [],
   "source": [
    "#请求网页数据\n",
    "resources = requests.get(url,headers=headers)\n",
    "html =resources.text"
   ]
  },
  {
   "cell_type": "code",
   "execution_count": 5,
   "metadata": {},
   "outputs": [
    {
     "name": "stdout",
     "output_type": "stream",
     "text": [
      "经度:114.021738\n",
      "纬度:22.548429\n"
     ]
    }
   ],
   "source": [
    "#使用re库提取经纬度\n",
    "lng=float(re.findall(r\"lng=[\\s\\S]*?(?=;)\",html)[0].replace(\"lng=\",\"\"))\n",
    "lat=float(re.findall(r\"lat=[\\s\\S]*?(?=;)\",html)[0].replace(\"lat=\",\"\"))\n",
    "print(f\"经度:{lng}\")\n",
    "print(f\"纬度:{lat}\")"
   ]
  },
  {
   "cell_type": "code",
   "execution_count": null,
   "metadata": {},
   "outputs": [],
   "source": []
  }
 ],
 "metadata": {
  "kernelspec": {
   "display_name": "Python 3.8.3 ('base')",
   "language": "python",
   "name": "python3"
  },
  "language_info": {
   "codemirror_mode": {
    "name": "ipython",
    "version": 3
   },
   "file_extension": ".py",
   "mimetype": "text/x-python",
   "name": "python",
   "nbconvert_exporter": "python",
   "pygments_lexer": "ipython3",
   "version": "3.8.3"
  },
  "orig_nbformat": 4,
  "vscode": {
   "interpreter": {
    "hash": "0690d0a31c43d6782c83d318ff85a3bdbe98820c0a9a1d52db642e5828ab819c"
   }
  }
 },
 "nbformat": 4,
 "nbformat_minor": 2
}
