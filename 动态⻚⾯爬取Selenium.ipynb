{
 "cells": [
  {
   "cell_type": "code",
   "execution_count": 9,
   "metadata": {},
   "outputs": [],
   "source": [
    "from selenium import webdriver\n",
    "from lxml import  etree\n",
    "from selenium.webdriver.chrome.service import Service\n",
    " "
   ]
  },
  {
   "cell_type": "code",
   "execution_count": 10,
   "metadata": {},
   "outputs": [],
   "source": [
    "s = Service(r\"D:\\chromedriver_win32\\chromedriver.exe\")\n",
    "chrome= webdriver.Chrome(service=s)\n",
    "url = 'https://www.epubit.com/books'\n",
    "# 打开url地址（此处的get不是requests中的get请求）\n",
    "chrome.get(url)"
   ]
  },
  {
   "cell_type": "code",
   "execution_count": 11,
   "metadata": {},
   "outputs": [
    {
     "name": "stdout",
     "output_type": "stream",
     "text": [
      "Rust实战 ￥110.33\n",
      "Python编程快速上手 让繁琐工作自动化 第2版【购买纸质书免费赠送本书e读版电子书】 ￥75.65\n",
      "C++ Primer Plus 第6版 中文版 ￥100.30\n",
      "Python极客编程：用代码探索世界 ￥67.92\n",
      "pandas数据处理与分析 ￥83.30\n",
      "软技能：代码之外的生存指南（第2版） ￥84.83\n",
      "PyTorch深度学习实战 ￥101.92\n",
      "Easy RL 强化学习教程 ￥84.92\n",
      "C++并发编程实战（第2版） ￥118.83\n",
      "深入浅出Windows API程序设计：核心编程篇 ￥127.42\n",
      "计算机图形学入门：3D渲染指南 ￥76.42\n",
      "动手学强化学习 ￥76.42\n",
      "改善对话：突破团队协作障碍 ￥50.83\n",
      "【抢读版】01改变世界：计算机原理趣谈 ￥67.15\n",
      "SQL学习指南（第3版） ￥76.42\n",
      "元宇宙时代 ￥59.33\n",
      "C Primer Plus 第6版 中文版 ￥91.80\n",
      "课堂上来不及思考的数学2：挑战思维极限 ￥42.33\n",
      "程序员软技能 ￥67.92\n",
      "深入浅出Windows API程序设计：编程基础篇 ￥101.92\n"
     ]
    }
   ],
   "source": [
    "def extact_source(page_source):\n",
    "    tree = etree.HTML(page_source)\n",
    "    book_list = tree.xpath('//*[@id=\"bookItem\"]/a')\n",
    "    for book in book_list:\n",
    "        name = book.xpath(\"./div[2]/@title\")[0]\n",
    "        price = book.xpath(\"./div[3]/div[1]/text()\")[0]\n",
    "        print(name,price)\n",
    "extact_source(chrome.page_source)"
   ]
  },
  {
   "cell_type": "code",
   "execution_count": 12,
   "metadata": {},
   "outputs": [],
   "source": [
    "chrome.close()"
   ]
  }
 ],
 "metadata": {
  "kernelspec": {
   "display_name": "Python 3.8.3 ('base')",
   "language": "python",
   "name": "python3"
  },
  "language_info": {
   "codemirror_mode": {
    "name": "ipython",
    "version": 3
   },
   "file_extension": ".py",
   "mimetype": "text/x-python",
   "name": "python",
   "nbconvert_exporter": "python",
   "pygments_lexer": "ipython3",
   "version": "3.8.3"
  },
  "orig_nbformat": 4,
  "vscode": {
   "interpreter": {
    "hash": "0690d0a31c43d6782c83d318ff85a3bdbe98820c0a9a1d52db642e5828ab819c"
   }
  }
 },
 "nbformat": 4,
 "nbformat_minor": 2
}
