{
 "cells": [
  {
   "cell_type": "markdown",
   "metadata": {},
   "source": [
    "## shapely库处理"
   ]
  },
  {
   "cell_type": "code",
   "execution_count": 2,
   "metadata": {},
   "outputs": [],
   "source": [
    "#演示数据\n",
    "border = \"116.32183261871,39.919669976779;116.31781875535,39.920510205913;116.31605209503,39.92174503031;116.31250105924,39.923345631241;116.3085379548,39.923880788218;116.30235488886,39.925134123186;116.30150431958,39.923424791296;116.30135415218,39.913748161559;116.301695,39.903442;116.314756,39.903207;116.31906521179738,39.90315435023043;116.31908317790759,39.90419216321063;116.32069114477045,39.904136813585026;116.32150860278452,39.904074545202356;116.32171521305182,39.904344374448634;116.32199368775991,39.90435129313318;116.3220475860905,39.903486452108076;116.32327826463919,39.903493370879936;116.32334114602487,39.90397076443779;116.32557792674473,39.90397768316036;116.32553301146922,39.903078243321616;116.327818,39.903068;116.32767996163807,39.908668414956814;116.3268086052934,39.90866149671172;116.32564080813042,39.90864766021946;116.32335911213508,39.90861998722642;116.32328724769428,39.91122811730173;116.32542521480802,39.9111520194334;116.32542521480802,39.91127654317357;116.32562284202022,39.911345722930626;116.32565877424062,39.9117815537806;116.3263953847588,39.91185765094395;116.3265121644751,39.91218279240928;116.32784165662987,39.9121966281818;116.32788657190537,39.91684528825663;116.32553301146922,39.916955966762984;116.32546114702842,39.91569698811429;116.32332317991468,39.915641647858195;116.32328724769428,39.91706664508902;116.32405979043286,39.91701130594854;116.32414962098386,39.917952065206634;116.32407775654306,39.91934934535549;116.32316148492288,39.91947385407326\""
   ]
  },
  {
   "cell_type": "code",
   "execution_count": 3,
   "metadata": {},
   "outputs": [],
   "source": [
    "from shapely.geometry import Polygon\n",
    "import geopandas as gpd"
   ]
  },
  {
   "cell_type": "markdown",
   "metadata": {},
   "source": [
    "[(0, 0), (1, 1), (1, 0)]"
   ]
  },
  {
   "cell_type": "code",
   "execution_count": 4,
   "metadata": {},
   "outputs": [],
   "source": [
    "#border.split(\";\")"
   ]
  },
  {
   "cell_type": "code",
   "execution_count": 5,
   "metadata": {},
   "outputs": [],
   "source": [
    "#数据转换\n",
    "data = []\n",
    "for i in border.split(\";\"):\n",
    "    #print(i.split(\",\"))\n",
    "    a = float(i.split(\",\")[0]),float(i.split(\",\")[1])\n",
    "    data.append(a)\n",
    "#print(data)"
   ]
  },
  {
   "cell_type": "code",
   "execution_count": 6,
   "metadata": {},
   "outputs": [
    {
     "data": {
      "text/html": [
       "<div>\n",
       "<style scoped>\n",
       "    .dataframe tbody tr th:only-of-type {\n",
       "        vertical-align: middle;\n",
       "    }\n",
       "\n",
       "    .dataframe tbody tr th {\n",
       "        vertical-align: top;\n",
       "    }\n",
       "\n",
       "    .dataframe thead th {\n",
       "        text-align: right;\n",
       "    }\n",
       "</style>\n",
       "<table border=\"1\" class=\"dataframe\">\n",
       "  <thead>\n",
       "    <tr style=\"text-align: right;\">\n",
       "      <th></th>\n",
       "      <th>name</th>\n",
       "      <th>price</th>\n",
       "      <th>id</th>\n",
       "      <th>geometry</th>\n",
       "    </tr>\n",
       "  </thead>\n",
       "  <tbody>\n",
       "    <tr>\n",
       "      <th>0</th>\n",
       "      <td>公主坟</td>\n",
       "      <td>102285</td>\n",
       "      <td>18335624</td>\n",
       "      <td>POLYGON ((116.32183 39.91967, 116.31782 39.920...</td>\n",
       "    </tr>\n",
       "  </tbody>\n",
       "</table>\n",
       "</div>"
      ],
      "text/plain": [
       "  name   price        id                                           geometry\n",
       "0  公主坟  102285  18335624  POLYGON ((116.32183 39.91967, 116.31782 39.920..."
      ]
     },
     "execution_count": 6,
     "metadata": {},
     "output_type": "execute_result"
    }
   ],
   "source": [
    "#转换为GeoDataFrame\n",
    "polygon = Polygon(data)\n",
    "#polygon\n",
    "tb = {\"name\":\"公主坟\",\"price\": 102285,\"id\":18335624,\"geometry\":[polygon]}\n",
    "gpd.GeoDataFrame(tb)"
   ]
  },
  {
   "cell_type": "code",
   "execution_count": 7,
   "metadata": {},
   "outputs": [
    {
     "data": {
      "text/plain": [
       "<matplotlib.axes._subplots.AxesSubplot at 0x2d0d75daa00>"
      ]
     },
     "execution_count": 7,
     "metadata": {},
     "output_type": "execute_result"
    },
    {
     "data": {
      "image/png": "[encoded data removed]",
      "text/plain": [
       "<Figure size 432x288 with 1 Axes>"
      ]
     },
     "metadata": {
      "needs_background": "light"
     },
     "output_type": "display_data"
    }
   ],
   "source": [
    "ddt = gpd.GeoDataFrame(tb)\n",
    "ddt.crs = \"EPSG:4326\"\n",
    "ddt.plot()"
   ]
  },
  {
   "cell_type": "markdown",
   "metadata": {},
   "source": [
    "## 存储空间数据"
   ]
  },
  {
   "cell_type": "code",
   "execution_count": 50,
   "metadata": {},
   "outputs": [],
   "source": [
    "#存储为jeojson格式\n",
    "ddt.to_file(r\"D:\\科研数据处理\\立方数据学社\\python城市数据爬取\\python城市数据爬取练习\\空间数据爬取\\公主坟2.geojson\",driver=\"GeoJSON\",encoding='utf-8')\n"
   ]
  },
  {
   "cell_type": "code",
   "execution_count": 52,
   "metadata": {},
   "outputs": [],
   "source": [
    "#存储为shp格式\n",
    "#方法1\n",
    "ddt.to_file(r\"D:\\科研数据处理\\立方数据学社\\python城市数据爬取\\python城市数据爬取练习\\空间数据爬取\\公主坟.shp\",encoding =\"gb18030\")\n",
    "#方法2\n",
    "ddt.to_file(r\"D:\\科研数据处理\\立方数据学社\\python城市数据爬取\\python城市数据爬取练习\\空间数据爬取\\公主坟1\",driver = \"ESRI Shapefile\",layer = \"公主坟\",encoding = \"utf-8\")"
   ]
  },
  {
   "cell_type": "code",
   "execution_count": 42,
   "metadata": {},
   "outputs": [],
   "source": [
    "#通过pandas导出为csv、excle等\n",
    "ddt.to_csv(r\"D:\\科研数据处理\\立方数据学社\\python城市数据爬取\\python城市数据爬取练习\\空间数据爬取\\公主坟3.csv\",encoding='utf-8')\n",
    "ddt.to_excel(r\"D:\\科研数据处理\\立方数据学社\\python城市数据爬取\\python城市数据爬取练习\\空间数据爬取\\公主坟4.xls\",encoding='utf-8')"
   ]
  }
 ],
 "metadata": {
  "kernelspec": {
   "display_name": "Python 3.8.3 ('base')",
   "language": "python",
   "name": "python3"
  },
  "language_info": {
   "codemirror_mode": {
    "name": "ipython",
    "version": 3
   },
   "file_extension": ".py",
   "mimetype": "text/x-python",
   "name": "python",
   "nbconvert_exporter": "python",
   "pygments_lexer": "ipython3",
   "version": "3.8.3"
  },
  "orig_nbformat": 4,
  "vscode": {
   "interpreter": {
    "hash": "0690d0a31c43d6782c83d318ff85a3bdbe98820c0a9a1d52db642e5828ab819c"
   }
  }
 },
 "nbformat": 4,
 "nbformat_minor": 2
}
