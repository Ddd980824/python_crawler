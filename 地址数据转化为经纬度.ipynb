{
 "cells": [
  {
   "cell_type": "code",
   "execution_count": 17,
   "metadata": {},
   "outputs": [],
   "source": [
    "import requests\n",
    "import json"
   ]
  },
  {
   "cell_type": "code",
   "execution_count": 18,
   "metadata": {},
   "outputs": [],
   "source": [
    "#输入地址信息与key\n",
    "key = \"ee2dfaab7a315a93e5847b023f1d50a5\"\n",
    "address = \"潍坊市奎文区机场路633号\"\n",
    "city = \"潍坊市\""
   ]
  },
  {
   "cell_type": "code",
   "execution_count": 19,
   "metadata": {},
   "outputs": [],
   "source": [
    "#设置请求参数\n",
    "url = \"https://restapi.amap.com/v3/geocode/geo?parameters\"\n",
    "headers={\n",
    "    \"User-Agent\": \"Mozilla/5.0 (Windows NT 10.0; Win64; x64) AppleWebKit/537.36 (KHTML, like Gecko) Chrome/103.0.0.0 Safari/537.36\", }\n",
    "keyword={\"address\":address,\"city\":city,\"key\":key,\"output\":\"JSON\"}"
   ]
  },
  {
   "cell_type": "code",
   "execution_count": 23,
   "metadata": {},
   "outputs": [
    {
     "data": {
      "text/plain": [
       "'{\"status\":\"1\",\"info\":\"OK\",\"infocode\":\"10000\",\"count\":\"1\",\"geocodes\":[{\"formatted_address\":\"山东省潍坊市奎文区机场路|633号\",\"country\":\"中国\",\"province\":\"山东省\",\"citycode\":\"0536\",\"city\":\"潍坊市\",\"district\":\"奎文区\",\"township\":[],\"neighborhood\":{\"name\":[],\"type\":[]},\"building\":{\"name\":[],\"type\":[]},\"adcode\":\"370705\",\"street\":\"机场路\",\"number\":\"633号\",\"location\":\"119.111730,36.650010\",\"level\":\"门牌号\"}]}'"
      ]
     },
     "execution_count": 23,
     "metadata": {},
     "output_type": "execute_result"
    }
   ],
   "source": [
    "#请求与解析API并返回数据\n",
    "resource =requests.get(url,headers=headers,params=keyword, timeout=5)\n",
    "resource.text"
   ]
  },
  {
   "cell_type": "code",
   "execution_count": 29,
   "metadata": {},
   "outputs": [
    {
     "data": {
      "text/plain": [
       "'119.111730,36.650010'"
      ]
     },
     "execution_count": 29,
     "metadata": {},
     "output_type": "execute_result"
    }
   ],
   "source": [
    "json.loads(resource.text)[\"geocodes\"][0][\"location\"]"
   ]
  }
 ],
 "metadata": {
  "kernelspec": {
   "display_name": "Python 3.8.3 ('base')",
   "language": "python",
   "name": "python3"
  },
  "language_info": {
   "codemirror_mode": {
    "name": "ipython",
    "version": 3
   },
   "file_extension": ".py",
   "mimetype": "text/x-python",
   "name": "python",
   "nbconvert_exporter": "python",
   "pygments_lexer": "ipython3",
   "version": "3.8.3"
  },
  "orig_nbformat": 4,
  "vscode": {
   "interpreter": {
    "hash": "0690d0a31c43d6782c83d318ff85a3bdbe98820c0a9a1d52db642e5828ab819c"
   }
  }
 },
 "nbformat": 4,
 "nbformat_minor": 2
}
